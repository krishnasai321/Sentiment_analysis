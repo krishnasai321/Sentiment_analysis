{
 "cells": [
  {
   "cell_type": "code",
   "execution_count": 1,
   "metadata": {},
   "outputs": [],
   "source": [
    "#Import libraries (almost only need to install textblob, tweepy)\n",
    "import pandas as pd\n",
    "import numpy as np\n",
    "import matplotlib.pyplot as plt\n",
    "import tweepy\n",
    "from textblob import TextBlob\n",
    "import nltk\n",
    "from nltk.sentiment.vader import SentimentIntensityAnalyzer"
   ]
  },
  {
   "cell_type": "code",
   "execution_count": 2,
   "metadata": {},
   "outputs": [],
   "source": [
    "#Authentication\n",
    "#Get Twitter developer account. Create a project. API key is consumer key. Generate access token and secret as well.\n",
    "#These keys can be regenerated and used as well. \n",
    "#Keys are anonymized for privacy reasons.\n",
    "\n",
    "consumerKey = 'aaaaaaaaaaa'\n",
    "consumerSecret = 'bbbbbbbbbbbbbbbbbbbbbbbb'\n",
    "accessToken = 'ccccccccccccccccccccccccccccccccccccccccccccccccccccc'\n",
    "accessTokenSecret = 'dddddddddddddddddddddddddddddddddddddddddddd'"
   ]
  },
  {
   "cell_type": "code",
   "execution_count": 3,
   "metadata": {},
   "outputs": [],
   "source": [
    "auth = tweepy.OAuthHandler(consumerKey, consumerSecret)\n",
    "auth.set_access_token(accessToken, accessTokenSecret)\n",
    "api = tweepy.API(auth)"
   ]
  },
  {
   "cell_type": "code",
   "execution_count": 29,
   "metadata": {},
   "outputs": [],
   "source": [
    "#Sentiment Analysis function. Give the name and # of tweets to analyze in the function.\n",
    "def percentage(part,whole):\n",
    " return 100 * float(part)/float(whole)\n",
    "keyword = '#YuvrajSingh'\n",
    "noOfTweet = 100\n",
    "tweets = tweepy.Cursor(api.search, q=keyword).items(noOfTweet)\n",
    "positive = 0\n",
    "negative = 0\n",
    "neutral = 0\n",
    "polarity = 0\n",
    "tweet_list = []\n",
    "neutral_list = []\n",
    "negative_list = []\n",
    "positive_list = []\n",
    "\n",
    "for tweet in tweets:\n",
    " \n",
    " #print(tweet.text)\n",
    " tweet_list.append(tweet.text)\n",
    " analysis = TextBlob(tweet.text)\n",
    " score = SentimentIntensityAnalyzer().polarity_scores(tweet.text)\n",
    " \n",
    " neg = score['neg']\n",
    " neu = score['neu']\n",
    " pos = score['pos']\n",
    " comp = score['compound']\n",
    " polarity += analysis.sentiment.polarity\n",
    " \n",
    " if neg > pos:\n",
    "     negative_list.append(tweet.text)\n",
    "     negative += 1\n",
    " elif pos > neg:\n",
    "     positive_list.append(tweet.text)\n",
    "     positive += 1\n",
    " \n",
    " elif pos == neg:\n",
    "     neutral_list.append(tweet.text)\n",
    "     neutral += 1"
   ]
  },
  {
   "cell_type": "code",
   "execution_count": 30,
   "metadata": {},
   "outputs": [],
   "source": [
    "#Using the created function\n",
    "positive = percentage(positive, noOfTweet)\n",
    "negative = percentage(negative, noOfTweet)\n",
    "neutral = percentage(neutral, noOfTweet)\n",
    "polarity = percentage(polarity, noOfTweet)\n",
    "positive = format(positive, '.1f')\n",
    "negative = format(negative, '.1f')\n",
    "neutral = format(neutral, '.1f')"
   ]
  },
  {
   "cell_type": "code",
   "execution_count": 31,
   "metadata": {},
   "outputs": [],
   "source": [
    "#Creating datasets for reference\n",
    "tweet_list = pd.DataFrame(tweet_list)\n",
    "neutral_list = pd.DataFrame(neutral_list)\n",
    "negative_list = pd.DataFrame(negative_list)\n",
    "positive_list = pd.DataFrame(positive_list)"
   ]
  },
  {
   "cell_type": "code",
   "execution_count": 32,
   "metadata": {},
   "outputs": [
    {
     "name": "stdout",
     "output_type": "stream",
     "text": [
      "total number:  100\n",
      "positive number:  38\n",
      "negative number:  6\n",
      "neutral number:  56\n"
     ]
    }
   ],
   "source": [
    "print('total number: ',len(tweet_list))\n",
    "print('positive number: ',len(positive_list))\n",
    "print('negative number: ', len(negative_list))\n",
    "print('neutral number: ',len(neutral_list))"
   ]
  },
  {
   "cell_type": "code",
   "execution_count": 43,
   "metadata": {},
   "outputs": [
    {
     "data": {
      "text/html": [
       "<div>\n",
       "<style scoped>\n",
       "    .dataframe tbody tr th:only-of-type {\n",
       "        vertical-align: middle;\n",
       "    }\n",
       "\n",
       "    .dataframe tbody tr th {\n",
       "        vertical-align: top;\n",
       "    }\n",
       "\n",
       "    .dataframe thead th {\n",
       "        text-align: right;\n",
       "    }\n",
       "</style>\n",
       "<table border=\"1\" class=\"dataframe\">\n",
       "  <thead>\n",
       "    <tr style=\"text-align: right;\">\n",
       "      <th></th>\n",
       "      <th>0</th>\n",
       "    </tr>\n",
       "  </thead>\n",
       "  <tbody>\n",
       "    <tr>\n",
       "      <th>0</th>\n",
       "      <td>RT @IndiaLegends1: When the lions, roar can the accolades be far behind?\\n.\\n.\\n@YUVSTRONG12 #Legend #indianlegend #YuvrajSingh #RoadSafetyWor…</td>\n",
       "    </tr>\n",
       "    <tr>\n",
       "      <th>1</th>\n",
       "      <td>It's funny to see the Indian legends team batting way better than our current squad #INDvENG… https://t.co/LFObdrA2Fq</td>\n",
       "    </tr>\n",
       "    <tr>\n",
       "      <th>2</th>\n",
       "      <td>RT @itsdocGG: What a bat swing the vintage yuvi treat to eyes.\\nsome class sixes from the sixer king Yuvraj Singh.\\n#YuvrajSingh #yuvi\\n#India…</td>\n",
       "    </tr>\n",
       "    <tr>\n",
       "      <th>3</th>\n",
       "      <td>In context with the kind of batting performance which was displayed by the #Indian legends @sachin_rt &amp;amp;… https://t.co/ATAAAnfNHM</td>\n",
       "    </tr>\n",
       "    <tr>\n",
       "      <th>4</th>\n",
       "      <td>RT @IndiaLegends1: When the lions, roar can the accolades be far behind?\\n.\\n.\\n@YUVSTRONG12 #Legend #indianlegend #YuvrajSingh #RoadSafetyWor…</td>\n",
       "    </tr>\n",
       "  </tbody>\n",
       "</table>\n",
       "</div>"
      ],
      "text/plain": [
       "                                                                                                                                                 0\n",
       "0  RT @IndiaLegends1: When the lions, roar can the accolades be far behind?\\n.\\n.\\n@YUVSTRONG12 #Legend #indianlegend #YuvrajSingh #RoadSafetyWor…\n",
       "1                            It's funny to see the Indian legends team batting way better than our current squad #INDvENG… https://t.co/LFObdrA2Fq\n",
       "2  RT @itsdocGG: What a bat swing the vintage yuvi treat to eyes.\\nsome class sixes from the sixer king Yuvraj Singh.\\n#YuvrajSingh #yuvi\\n#India…\n",
       "3             In context with the kind of batting performance which was displayed by the #Indian legends @sachin_rt &amp;… https://t.co/ATAAAnfNHM\n",
       "4  RT @IndiaLegends1: When the lions, roar can the accolades be far behind?\\n.\\n.\\n@YUVSTRONG12 #Legend #indianlegend #YuvrajSingh #RoadSafetyWor…"
      ]
     },
     "execution_count": 43,
     "metadata": {},
     "output_type": "execute_result"
    }
   ],
   "source": [
    "pd.set_option('display.max_colwidth', None)\n",
    "tweet_list.head()"
   ]
  },
  {
   "cell_type": "code",
   "execution_count": 46,
   "metadata": {},
   "outputs": [
    {
     "data": {
      "text/html": [
       "<div>\n",
       "<style scoped>\n",
       "    .dataframe tbody tr th:only-of-type {\n",
       "        vertical-align: middle;\n",
       "    }\n",
       "\n",
       "    .dataframe tbody tr th {\n",
       "        vertical-align: top;\n",
       "    }\n",
       "\n",
       "    .dataframe thead th {\n",
       "        text-align: right;\n",
       "    }\n",
       "</style>\n",
       "<table border=\"1\" class=\"dataframe\">\n",
       "  <thead>\n",
       "    <tr style=\"text-align: right;\">\n",
       "      <th></th>\n",
       "      <th>0</th>\n",
       "    </tr>\n",
       "  </thead>\n",
       "  <tbody>\n",
       "    <tr>\n",
       "      <th>0</th>\n",
       "      <td>RT @GT20Canada: Big Match and again @YUVSTRONG12 steps up to the task. That is some class death overs batting we just witnessed. \\nTake a bo…</td>\n",
       "    </tr>\n",
       "    <tr>\n",
       "      <th>1</th>\n",
       "      <td>RT @Yuvifansclub: 6 6 6 0 6 0 - @YUVSTRONG12 \\n49*(20) Nearly Missed Deserved 50\\nSixer King 👑 \\n#RoadSafetyWorldSeries2021 \\n#INDLvWIL\\n#Yuvi…</td>\n",
       "    </tr>\n",
       "    <tr>\n",
       "      <th>2</th>\n",
       "      <td>Chahal is rested and Chahar comes in !! \\nIshan is a bit injured or somewhat like that , so he makes way for SKY!!… https://t.co/90sqkpa3aF</td>\n",
       "    </tr>\n",
       "    <tr>\n",
       "      <th>3</th>\n",
       "      <td>RT @KABIR_is__GOD: #YuvrajSingh\\n\\nName- .....................\\nMob- .................\\nHouse No- ...................\\nCity/Vill- ..............…</td>\n",
       "    </tr>\n",
       "    <tr>\n",
       "      <th>4</th>\n",
       "      <td>He is the king of sixes no doubt 🔥\\n\\n#YuvrajSingh #RSworldseries https://t.co/FB6pEZPCgD</td>\n",
       "    </tr>\n",
       "  </tbody>\n",
       "</table>\n",
       "</div>"
      ],
      "text/plain": [
       "                                                                                                                                                   0\n",
       "0      RT @GT20Canada: Big Match and again @YUVSTRONG12 steps up to the task. That is some class death overs batting we just witnessed. \\nTake a bo…\n",
       "1    RT @Yuvifansclub: 6 6 6 0 6 0 - @YUVSTRONG12 \\n49*(20) Nearly Missed Deserved 50\\nSixer King 👑 \\n#RoadSafetyWorldSeries2021 \\n#INDLvWIL\\n#Yuvi…\n",
       "2        Chahal is rested and Chahar comes in !! \\nIshan is a bit injured or somewhat like that , so he makes way for SKY!!… https://t.co/90sqkpa3aF\n",
       "3  RT @KABIR_is__GOD: #YuvrajSingh\\n\\nName- .....................\\nMob- .................\\nHouse No- ...................\\nCity/Vill- ..............…\n",
       "4                                                          He is the king of sixes no doubt 🔥\\n\\n#YuvrajSingh #RSworldseries https://t.co/FB6pEZPCgD"
      ]
     },
     "execution_count": 46,
     "metadata": {},
     "output_type": "execute_result"
    }
   ],
   "source": [
    "negative_list.head()"
   ]
  },
  {
   "cell_type": "code",
   "execution_count": null,
   "metadata": {},
   "outputs": [],
   "source": [
    "#Though some tweets seem to be positive, could be based on the backend algorithm."
   ]
  },
  {
   "cell_type": "code",
   "execution_count": 47,
   "metadata": {},
   "outputs": [
    {
     "data": {
      "text/html": [
       "<div>\n",
       "<style scoped>\n",
       "    .dataframe tbody tr th:only-of-type {\n",
       "        vertical-align: middle;\n",
       "    }\n",
       "\n",
       "    .dataframe tbody tr th {\n",
       "        vertical-align: top;\n",
       "    }\n",
       "\n",
       "    .dataframe thead th {\n",
       "        text-align: right;\n",
       "    }\n",
       "</style>\n",
       "<table border=\"1\" class=\"dataframe\">\n",
       "  <thead>\n",
       "    <tr style=\"text-align: right;\">\n",
       "      <th></th>\n",
       "      <th>0</th>\n",
       "    </tr>\n",
       "  </thead>\n",
       "  <tbody>\n",
       "    <tr>\n",
       "      <th>0</th>\n",
       "      <td>It's funny to see the Indian legends team batting way better than our current squad #INDvENG… https://t.co/LFObdrA2Fq</td>\n",
       "    </tr>\n",
       "    <tr>\n",
       "      <th>1</th>\n",
       "      <td>RT @itsdocGG: What a bat swing the vintage yuvi treat to eyes.\\nsome class sixes from the sixer king Yuvraj Singh.\\n#YuvrajSingh #yuvi\\n#India…</td>\n",
       "    </tr>\n",
       "    <tr>\n",
       "      <th>2</th>\n",
       "      <td>Surya Kumar Yadav Six Against Jofra Archer On The Very First Ball Was A Treat To Watch \\n#Suryakumaryadav… https://t.co/PluBZJ26IF</td>\n",
       "    </tr>\n",
       "    <tr>\n",
       "      <th>3</th>\n",
       "      <td>RT @Kh14245350Adnan: Yuvraj Singh in his prime was easily India's most loved cricketer. Just like Jasprit Bumrah currently, he used to unit…</td>\n",
       "    </tr>\n",
       "    <tr>\n",
       "      <th>4</th>\n",
       "      <td>RT @53kyCreation12: 🙏He proves again Positivity can change your every bad times💥💥\\n\\nI can still see him playing international match effortle…</td>\n",
       "    </tr>\n",
       "  </tbody>\n",
       "</table>\n",
       "</div>"
      ],
      "text/plain": [
       "                                                                                                                                                 0\n",
       "0                            It's funny to see the Indian legends team batting way better than our current squad #INDvENG… https://t.co/LFObdrA2Fq\n",
       "1  RT @itsdocGG: What a bat swing the vintage yuvi treat to eyes.\\nsome class sixes from the sixer king Yuvraj Singh.\\n#YuvrajSingh #yuvi\\n#India…\n",
       "2               Surya Kumar Yadav Six Against Jofra Archer On The Very First Ball Was A Treat To Watch \\n#Suryakumaryadav… https://t.co/PluBZJ26IF\n",
       "3     RT @Kh14245350Adnan: Yuvraj Singh in his prime was easily India's most loved cricketer. Just like Jasprit Bumrah currently, he used to unit…\n",
       "4   RT @53kyCreation12: 🙏He proves again Positivity can change your every bad times💥💥\\n\\nI can still see him playing international match effortle…"
      ]
     },
     "execution_count": 47,
     "metadata": {},
     "output_type": "execute_result"
    }
   ],
   "source": [
    "positive_list.head()"
   ]
  },
  {
   "cell_type": "code",
   "execution_count": null,
   "metadata": {},
   "outputs": [],
   "source": []
  }
 ],
 "metadata": {
  "kernelspec": {
   "display_name": "Python 3",
   "language": "python",
   "name": "python3"
  },
  "language_info": {
   "codemirror_mode": {
    "name": "ipython",
    "version": 3
   },
   "file_extension": ".py",
   "mimetype": "text/x-python",
   "name": "python",
   "nbconvert_exporter": "python",
   "pygments_lexer": "ipython3",
   "version": "3.8.5"
  }
 },
 "nbformat": 4,
 "nbformat_minor": 4
}
